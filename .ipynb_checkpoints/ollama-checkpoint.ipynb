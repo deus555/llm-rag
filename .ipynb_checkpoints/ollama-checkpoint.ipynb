{
 "cells": [
  {
   "cell_type": "code",
   "execution_count": 42,
   "id": "24fbfe7f-ea5a-4ca9-8076-eb7d177fc07d",
   "metadata": {},
   "outputs": [],
   "source": [
    "import ollama\n",
    "import numpy as np\n",
    "import time\n",
    "import os\n",
    "import json\n",
    "from numpy.linalg import norm"
   ]
  },
  {
   "cell_type": "code",
   "execution_count": 12,
   "id": "dca257a8-bb06-4f1c-a9f3-5f2af642185d",
   "metadata": {},
   "outputs": [],
   "source": [
    "def parse_file(filename): \n",
    "    with open(filename, encoding = 'utf-8-sig') as f:\n",
    "        paragraphs = []\n",
    "        buffer = []\n",
    "\n",
    "        for line in f.readlines():\n",
    "            line = line.strip()\n",
    "            if line:\n",
    "                buffer.append(line)\n",
    "            elif len(buffer):\n",
    "                paragraphs.append(\" \".join(buffer))\n",
    "                buffer = []\n",
    "                \n",
    "        if len(buffer):\n",
    "                paragraphs.append(\" \".join(buffer))\n",
    "                buffer = []\n",
    "\n",
    "    return paragraphs"
   ]
  },
  {
   "cell_type": "code",
   "execution_count": 33,
   "id": "7198b77f-21f2-41a1-92ea-3697148686cc",
   "metadata": {},
   "outputs": [],
   "source": [
    "def get_embeddings(filename, modelname, chunks):\n",
    "    if (embeddings := load_embeddings(filename)) is not False:\n",
    "        return embeddings\n",
    "    \n",
    "    embeddings = [\n",
    "        ollama.embeddings(model = modelname, prompt = chunk)['embedding'] \n",
    "        for chunk in chunks\n",
    "    ]\n",
    "    \n",
    "    save_embeddings(filename, embeddings)\n",
    "\n",
    "    return embeddings"
   ]
  },
  {
   "cell_type": "code",
   "execution_count": 29,
   "id": "b7b022ab-bade-44db-b863-533e78e4ff33",
   "metadata": {},
   "outputs": [],
   "source": [
    "def save_embeddings(filename, embeddings):\n",
    "    if not os.path.exists('embeddings'):\n",
    "        os.makedirs('embeddings')\n",
    "    with open(f\"embeddings/{filename}.json\", \"w\") as f:\n",
    "        json.dump(embeddings, f)"
   ]
  },
  {
   "cell_type": "code",
   "execution_count": 32,
   "id": "66d31560-fa7c-4652-8afb-77d7dfd69ed4",
   "metadata": {},
   "outputs": [],
   "source": [
    "def load_embeddings(filename):\n",
    "    if not os.path.exists(f\"embeddings/{filename}.json\"):\n",
    "        return False\n",
    "    with open(f\"embeddings/{filename}.json\", \"r\") as f:\n",
    "        return json.load(f)"
   ]
  },
  {
   "cell_type": "code",
   "execution_count": 45,
   "id": "582276be-2ef2-4b7f-907a-10233d0517f3",
   "metadata": {},
   "outputs": [],
   "source": [
    "def find(needle, haystack):\n",
    "    needle_norm = norm(needle)\n",
    "    similarity_scores = [\n",
    "        np.dot(needle, item) / (needle_norm * norm(item)) for item in haystack\n",
    "    ]\n",
    "    \n",
    "    return sorted(zip(similarity_scores, range(len(haystack))), reverse = True)   "
   ]
  },
  {
   "cell_type": "code",
   "execution_count": 35,
   "id": "ca3c0f85-00fe-4499-9f77-ab0ac0118f34",
   "metadata": {},
   "outputs": [],
   "source": [
    "modelname = 'llama3'"
   ]
  },
  {
   "cell_type": "code",
   "execution_count": 25,
   "id": "fcf5f41b-4b3b-4333-8138-34dec4db6add",
   "metadata": {},
   "outputs": [],
   "source": [
    "paragraphs = parse_file('buddhism.txt')"
   ]
  },
  {
   "cell_type": "code",
   "execution_count": 34,
   "id": "47f8301f-da5a-4c84-ae5a-d61ba70c7e7e",
   "metadata": {},
   "outputs": [
    {
     "name": "stdout",
     "output_type": "stream",
     "text": [
      "4.032627400010824\n"
     ]
    }
   ],
   "source": [
    "start = time.perf_counter()\n",
    "embeddings = get_embeddings('buddhism', modelname, paragraphs)\n",
    "print(time.perf_counter() - start)"
   ]
  },
  {
   "cell_type": "code",
   "execution_count": 56,
   "id": "a147e810-2680-4ca6-ad79-c45b83417f0a",
   "metadata": {},
   "outputs": [
    {
     "name": "stdin",
     "output_type": "stream",
     "text": [
      "ask me:  core beliefs\n"
     ]
    },
    {
     "name": "stdout",
     "output_type": "stream",
     "text": [
      "0.4792955726420998 124 Theory of Reincarnation Explained.\n",
      "0.4726495725063703 19 Nietzsche: Who He Was and What He Stood For.\n",
      "0.46757094532527166 Shakespeare's Plays\n",
      "0.4657541745560094 The Essence of Buddhism\n",
      "0.46500180876196656 347 A Guide to Stoicism.\n",
      "===========================\n",
      "I'm not sure which text is most relevant to \"core beliefs\". However, based on the provided context, I can tell you that Nietzsche was a philosopher who had some core beliefs about the will to power and the death of God. Similarly, Buddhism has some core principles such as the Four Noble Truths and the Eightfold Path.\n"
     ]
    }
   ],
   "source": [
    "prompt = input(\"ask me: \")\n",
    "prompt_embedding = ollama.embeddings(model = modelname, prompt = prompt)['embedding'] \n",
    "\n",
    "most_similar = find(prompt_embedding, embeddings)[:5]\n",
    "for item in most_similar:\n",
    "    print(item[0], paragraphs[item[1]])\n",
    "\n",
    "SYSTEM_PROMPT = \"\"\"\n",
    "You are a reading assistant who answers questions based on snippets of text provided in the context. \n",
    "Answer only using the context provided. Answer shoul contain at most 5 sentences.\n",
    "If unsure - just say you don't know.\n",
    "\n",
    "Context:\n",
    "\"\"\"\n",
    "\n",
    "response = ollama.chat(model = modelname, messages = [\n",
    "    {'role': 'system', \n",
    "     'content': SYSTEM_PROMPT + \"\\n\".join(paragraphs[item[1]] for item in most_similar)},\n",
    "    {'role': 'user', \n",
    "     'content': prompt}\n",
    "])\n",
    "\n",
    "print('===========================')\n",
    "print(response['message']['content'])"
   ]
  }
 ],
 "metadata": {
  "kernelspec": {
   "display_name": "Python 3 (ipykernel)",
   "language": "python",
   "name": "python3"
  },
  "language_info": {
   "codemirror_mode": {
    "name": "ipython",
    "version": 3
   },
   "file_extension": ".py",
   "mimetype": "text/x-python",
   "name": "python",
   "nbconvert_exporter": "python",
   "pygments_lexer": "ipython3",
   "version": "3.10.0"
  }
 },
 "nbformat": 4,
 "nbformat_minor": 5
}
